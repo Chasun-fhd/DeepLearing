{
 "cells": [
  {
   "cell_type": "markdown",
   "id": "b109b2a2d041860b",
   "metadata": {},
   "source": [
    "## QA (question answering)\n",
    "\n",
    "最常用是提取式QA（extractive QA），搜索阶段（关键词检索海量文档）-> 提取答案"
   ]
  },
  {
   "cell_type": "code",
   "execution_count": 5,
   "id": "56079790e152f79",
   "metadata": {
    "ExecuteTime": {
     "end_time": "2025-04-08T05:50:17.997090Z",
     "start_time": "2025-04-08T05:50:11.111660Z"
    }
   },
   "outputs": [
    {
     "name": "stdout",
     "output_type": "stream",
     "text": [
      "['books', 'electronics', 'grocery', 'movies', 'restaurants', 'tripadvisor']\n",
      "DatasetDict({\n",
      "    train: Dataset({\n",
      "        features: ['domain', 'nn_mod', 'nn_asp', 'query_mod', 'query_asp', 'q_reviews_id', 'question_subj_level', 'ques_subj_score', 'is_ques_subjective', 'review_id', 'id', 'title', 'context', 'question', 'answers'],\n",
      "        num_rows: 1295\n",
      "    })\n",
      "    test: Dataset({\n",
      "        features: ['domain', 'nn_mod', 'nn_asp', 'query_mod', 'query_asp', 'q_reviews_id', 'question_subj_level', 'ques_subj_score', 'is_ques_subjective', 'review_id', 'id', 'title', 'context', 'question', 'answers'],\n",
      "        num_rows: 358\n",
      "    })\n",
      "    validation: Dataset({\n",
      "        features: ['domain', 'nn_mod', 'nn_asp', 'query_mod', 'query_asp', 'q_reviews_id', 'question_subj_level', 'ques_subj_score', 'is_ques_subjective', 'review_id', 'id', 'title', 'context', 'question', 'answers'],\n",
      "        num_rows: 255\n",
      "    })\n",
      "})\n",
      "{'text': ['Bass is weak as expected', 'Bass is weak as expected, even with EQ adjusted up'], 'answer_start': [1302, 1302], 'answer_subj_level': [1, 1], 'ans_subj_score': [0.5083333253860474, 0.5083333253860474], 'is_ans_subjective': [True, True]}\n",
      "Number of questions in train: 1295\n",
      "Number of questions in test: 358\n",
      "Number of questions in validation: 255\n",
      "215\n",
      "239\n"
     ]
    },
    {
     "data": {
      "image/png": "[encoded data removed]",
      "text/plain": [
       "<Figure size 640x480 with 1 Axes>"
      ]
     },
     "metadata": {},
     "output_type": "display_data"
    }
   ],
   "source": [
    "import uuid\n",
    "\n",
    "from datasets import load_dataset, get_dataset_config_names\n",
    "from matplotlib import pyplot as plt\n",
    "\n",
    "domains = get_dataset_config_names('subjqa', trust_remote_code=True)\n",
    "print(domains)\n",
    "\n",
    "from datasets import load_dataset\n",
    "\n",
    "subjqa_dataset = load_dataset('subjqa', name=\"electronics\")\n",
    "print(subjqa_dataset)\n",
    "print(subjqa_dataset['train']['answers'][1])\n",
    "\n",
    "import pandas as pd\n",
    "\n",
    "dfs = {split: dset.to_pandas() for split, dset in subjqa_dataset.flatten().items()}\n",
    "for split, df in dfs.items():\n",
    "    print(f\"Number of questions in {split}: {df['id'].nunique()}\")\n",
    "\n",
    "qa_cols = [\"title\", \"question\", \"answers.text\",\n",
    "           \"answers.answer_start\", \"context\"]\n",
    "sample_df = dfs[\"train\"][qa_cols].sample(2, random_state=7)\n",
    "sample_df\n",
    "## I really like this keyboard.  I give it 4 stars because it doesn't have a CAPS LOCK key so I never know if my caps are on.  But for the price, it really suffices as a wireless keyboard.  I have very large hands and this keyboard is compact, but I have no complaints.\n",
    "start_idx = sample_df[\"answers.answer_start\"].iloc[0][0]\n",
    "print(start_idx)\n",
    "end_idx = start_idx + len(sample_df[\"answers.text\"].iloc[0][0])\n",
    "print(end_idx)\n",
    "sample_df[\"context\"].iloc[0][start_idx:end_idx]\n",
    "\n",
    "counts = {}\n",
    "question_types = [\"What\", \"How\", \"Is\", \"Does\", \"Do\", \"Was\", \"Where\", \"Why\"]\n",
    "for q in question_types:\n",
    "    counts[q] = dfs[\"train\"][\"question\"].str.startswith(q).value_counts()[True]\n",
    "pd.Series(counts).sort_values().plot.barh()\n",
    "plt.title(\"Frequency of Question Types\")\n",
    "plt.show()"
   ]
  },
  {
   "cell_type": "markdown",
   "id": "59c4bd4753858d05",
   "metadata": {},
   "source": [
    "## Tokenization for QA"
   ]
  },
  {
   "cell_type": "code",
   "execution_count": 3,
   "id": "c9018b5402971fbd",
   "metadata": {
    "ExecuteTime": {
     "end_time": "2025-04-08T03:11:46.835174Z",
     "start_time": "2025-04-08T03:11:45.736070Z"
    }
   },
   "outputs": [
    {
     "name": "stdout",
     "output_type": "stream",
     "text": [
      "{'input_ids': tensor([[  101,  2129,  2172,  2189,  2064,  2023,  2907,  1029,   102,  2019,\n",
      "         23378,  2003,  2055,  1015, 16914,  1013,  3371,  1010,  2061,  2055,\n",
      "         25961,  2847,  5834,  2006,  5371,  2946,  1012,   102]]), 'token_type_ids': tensor([[0, 0, 0, 0, 0, 0, 0, 0, 0, 1, 1, 1, 1, 1, 1, 1, 1, 1, 1, 1, 1, 1, 1, 1,\n",
      "         1, 1, 1, 1]]), 'attention_mask': tensor([[1, 1, 1, 1, 1, 1, 1, 1, 1, 1, 1, 1, 1, 1, 1, 1, 1, 1, 1, 1, 1, 1, 1, 1,\n",
      "         1, 1, 1, 1]])}\n",
      "[CLS] how much music can this hold? [SEP] an mp3 is about 1 mb / minute, so about 6000 hours depending on file size. [SEP]\n"
     ]
    },
    {
     "name": "stderr",
     "output_type": "stream",
     "text": [
      "Some weights of the model checkpoint at deepset/minilm-uncased-squad2 were not used when initializing BertForQuestionAnswering: ['bert.pooler.dense.bias', 'bert.pooler.dense.weight']\n",
      "- This IS expected if you are initializing BertForQuestionAnswering from the checkpoint of a model trained on another task or with another architecture (e.g. initializing a BertForSequenceClassification model from a BertForPreTraining model).\n",
      "- This IS NOT expected if you are initializing BertForQuestionAnswering from the checkpoint of a model that you expect to be exactly identical (initializing a BertForSequenceClassification model from a BertForSequenceClassification model).\n",
      "Hardware accelerator e.g. GPU is available in the environment, but no `device` argument is passed to the `Pipeline` object. Model will be on CPU.\n"
     ]
    },
    {
     "name": "stdout",
     "output_type": "stream",
     "text": [
      "QuestionAnsweringModelOutput(loss=None, start_logits=tensor([[-0.9862, -4.7750, -5.4025, -5.2378, -5.2863, -5.5117, -4.9819, -6.1880,\n",
      "         -0.9862,  0.2596, -0.2144, -1.7136,  3.7806,  4.8561, -1.0546, -3.9097,\n",
      "         -1.7374, -4.5944, -1.4278,  3.9949,  5.0391, -0.2018, -3.0193, -4.8549,\n",
      "         -2.3107, -3.5110, -3.5713, -0.9862]]), end_logits=tensor([[-0.9623, -5.4733, -5.0326, -5.1639, -5.4278, -5.5151, -5.1749, -4.6233,\n",
      "         -0.9623, -3.7855, -0.8715, -3.7745, -3.0161, -1.1780,  0.1758, -2.7365,\n",
      "          4.8934,  0.3046, -3.1761, -3.2762,  0.8937,  5.6606, -0.3623, -4.9554,\n",
      "         -3.2531, -0.0914,  1.6211, -0.9623]]), hidden_states=None, attentions=None)\n",
      "Input IDs shape: torch.Size([1, 28])\n",
      "Start logits shape: torch.Size([1, 28])\n",
      "End logits shape: torch.Size([1, 28])\n",
      "----------------------------------------------------------------------------------------------------\n",
      "tensor([  101,  2129,  2172,  2189,  2064,  2023,  2907,  1029,   102,  2019,\n",
      "        23378,  2003,  2055,  1015, 16914,  1013,  3371,  1010,  2061,  2055,\n",
      "        25961,  2847,  5834,  2006,  5371,  2946,  1012,   102])\n",
      "Question: How much music can this hold?\n",
      "Answer: 6000 hours\n",
      "[{'score': 0.2651612460613251, 'start': 38, 'end': 48, 'answer': '6000 hours'}, {'score': 0.2208295315504074, 'start': 16, 'end': 48, 'answer': '1 MB/minute, so about 6000 hours'}, {'score': 0.10253556817770004, 'start': 16, 'end': 27, 'answer': '1 MB/minute'}]\n"
     ]
    },
    {
     "name": "stderr",
     "output_type": "stream",
     "text": [
      "/Users/admin/Developer/PyProjects/DeepLearing/.venv/lib/python3.8/site-packages/transformers/pipelines/question_answering.py:334: UserWarning: topk parameter is deprecated, use top_k instead\n",
      "  warnings.warn(\"topk parameter is deprecated, use top_k instead\", UserWarning)\n"
     ]
    }
   ],
   "source": [
    "from transformers import AutoTokenizer\n",
    "import pandas as pd\n",
    "\n",
    "model_ckpt = \"deepset/minilm-uncased-squad2\"\n",
    "tokenizer = AutoTokenizer.from_pretrained(model_ckpt)\n",
    "\n",
    "question = \"How much music can this hold?\"\n",
    "context = \"\"\"An MP3 is about 1 MB/minute, so about 6000 hours depending on \\\n",
    "file size.\"\"\"\n",
    "inputs = tokenizer(question, context, return_tensors=\"pt\")\n",
    "print(inputs)\n",
    "\n",
    "df = pd.DataFrame.from_dict({key: value.tolist()[0] for key, value in inputs.items()}, orient='index')\n",
    "df\n",
    "print(tokenizer.decode(inputs[\"input_ids\"][0]))\n",
    "\n",
    "import torch\n",
    "from transformers import AutoModelForQuestionAnswering\n",
    "\n",
    "model = AutoModelForQuestionAnswering.from_pretrained(model_ckpt)\n",
    "with torch.no_grad():\n",
    "    outputs = model(**inputs)\n",
    "print(outputs)\n",
    "\n",
    "start_logits = outputs.start_logits\n",
    "end_logits = outputs.end_logits\n",
    "print(f\"Input IDs shape: {inputs.input_ids.size()}\")\n",
    "print(f\"Start logits shape: {start_logits.size()}\")\n",
    "print(f\"End logits shape: {end_logits.size()}\")\n",
    "\n",
    "print('-' * 100)\n",
    "print(inputs[\"input_ids\"][0])\n",
    "\n",
    "start_idx = torch.argmax(start_logits)\n",
    "end_idx = torch.argmax(end_logits) + 1\n",
    "answer_span = inputs[\"input_ids\"][0][start_idx:end_idx]\n",
    "answer = tokenizer.decode(answer_span)\n",
    "print(f\"Question: {question}\")\n",
    "print(f\"Answer: {answer}\")\n",
    "\n",
    "from transformers import pipeline\n",
    "\n",
    "pipe = pipeline('question-answering', model=model, tokenizer=tokenizer)\n",
    "result = pipe(question=question, context=context, topk=3)\n",
    "print(result)"
   ]
  },
  {
   "cell_type": "markdown",
   "id": "83968cfa25b2ff08",
   "metadata": {},
   "source": [
    "## Dealing with long passages\n",
    "\n",
    "阅读理解模型常遇到的一个问题：上下文包含的token数量比模型可接受的最大长度要多。QA任务，答案很可能就在上下文靠后位置，因此无法直接像分类任务一样，直接截取。\n",
    "\n",
    "解法：滑动窗口（sliding window），窗口大小一般为模型输入max token；步长（stride）\n",
    "\n",
    "<br>\n",
    "<img src=\"./imgs/qa_sliding_window.png\" width=\"400\"/>\n",
    "\n",
    "在transformer中，可以通过参数 `return_overflowing_tokens = True` 启用tokenizer中的滑动窗口。\n"
   ]
  },
  {
   "cell_type": "code",
   "execution_count": 8,
   "id": "153aceb4bdc75eae",
   "metadata": {
    "ExecuteTime": {
     "end_time": "2025-04-08T05:51:34.618612Z",
     "start_time": "2025-04-08T05:51:34.611412Z"
    }
   },
   "outputs": [
    {
     "name": "stdout",
     "output_type": "stream",
     "text": [
      "{'input_ids': [[101, 2129, 2003, 1996, 3321, 1029, 102, 1045, 2031, 2018, 12849, 4757, 2132, 19093, 1999, 1996, 2627, 1010, 4013, 26424, 2050, 1998, 1053, 2480, 1011, 5585, 1012, 1996, 12849, 4757, 3417, 9331, 3217, 2003, 12109, 1998, 2038, 2307, 3321, 3433, 1012, 1996, 2147, 2307, 2007, 2026, 11924, 3042, 1998, 2064, 2022, 1000, 4565, 2039, 1000, 2000, 2022, 3344, 1999, 2026, 9055, 6598, 2030, 3274, 4524, 2302, 2893, 24514, 2098, 1012, 2027, 2024, 2200, 2422, 1998, 2079, 2025, 2514, 3082, 2030, 4562, 2091, 2006, 2115, 5551, 2130, 2044, 5962, 2000, 2189, 2007, 2068, 2006, 2035, 2154, 1012, 1996, 2614, 2003, 102], [101, 2129, 2003, 1996, 3321, 1029, 102, 1998, 2079, 2025, 2514, 3082, 2030, 4562, 2091, 2006, 2115, 5551, 2130, 2044, 5962, 2000, 2189, 2007, 2068, 2006, 2035, 2154, 1012, 1996, 2614, 2003, 2305, 1998, 2154, 2488, 2084, 2151, 4540, 1011, 13007, 2071, 2022, 1998, 2024, 2471, 2004, 2204, 2004, 1996, 4013, 26424, 2050, 1012, 2027, 2024, 1000, 2330, 2250, 1000, 2132, 19093, 2061, 2017, 3685, 2674, 1996, 3321, 2000, 1996, 10203, 4127, 1010, 2021, 2009, 3310, 2485, 1012, 2005, 1002, 3590, 1010, 2017, 3685, 2175, 3308, 1012, 102]], 'token_type_ids': [[0, 0, 0, 0, 0, 0, 0, 1, 1, 1, 1, 1, 1, 1, 1, 1, 1, 1, 1, 1, 1, 1, 1, 1, 1, 1, 1, 1, 1, 1, 1, 1, 1, 1, 1, 1, 1, 1, 1, 1, 1, 1, 1, 1, 1, 1, 1, 1, 1, 1, 1, 1, 1, 1, 1, 1, 1, 1, 1, 1, 1, 1, 1, 1, 1, 1, 1, 1, 1, 1, 1, 1, 1, 1, 1, 1, 1, 1, 1, 1, 1, 1, 1, 1, 1, 1, 1, 1, 1, 1, 1, 1, 1, 1, 1, 1, 1, 1, 1, 1], [0, 0, 0, 0, 0, 0, 0, 1, 1, 1, 1, 1, 1, 1, 1, 1, 1, 1, 1, 1, 1, 1, 1, 1, 1, 1, 1, 1, 1, 1, 1, 1, 1, 1, 1, 1, 1, 1, 1, 1, 1, 1, 1, 1, 1, 1, 1, 1, 1, 1, 1, 1, 1, 1, 1, 1, 1, 1, 1, 1, 1, 1, 1, 1, 1, 1, 1, 1, 1, 1, 1, 1, 1, 1, 1, 1, 1, 1, 1, 1, 1, 1, 1, 1, 1, 1, 1, 1]], 'attention_mask': [[1, 1, 1, 1, 1, 1, 1, 1, 1, 1, 1, 1, 1, 1, 1, 1, 1, 1, 1, 1, 1, 1, 1, 1, 1, 1, 1, 1, 1, 1, 1, 1, 1, 1, 1, 1, 1, 1, 1, 1, 1, 1, 1, 1, 1, 1, 1, 1, 1, 1, 1, 1, 1, 1, 1, 1, 1, 1, 1, 1, 1, 1, 1, 1, 1, 1, 1, 1, 1, 1, 1, 1, 1, 1, 1, 1, 1, 1, 1, 1, 1, 1, 1, 1, 1, 1, 1, 1, 1, 1, 1, 1, 1, 1, 1, 1, 1, 1, 1, 1], [1, 1, 1, 1, 1, 1, 1, 1, 1, 1, 1, 1, 1, 1, 1, 1, 1, 1, 1, 1, 1, 1, 1, 1, 1, 1, 1, 1, 1, 1, 1, 1, 1, 1, 1, 1, 1, 1, 1, 1, 1, 1, 1, 1, 1, 1, 1, 1, 1, 1, 1, 1, 1, 1, 1, 1, 1, 1, 1, 1, 1, 1, 1, 1, 1, 1, 1, 1, 1, 1, 1, 1, 1, 1, 1, 1, 1, 1, 1, 1, 1, 1, 1, 1, 1, 1, 1, 1]], 'overflow_to_sample_mapping': [0, 0]}\n",
      "Window #0 has 100 tokens\n",
      "[CLS] how is the bass? [SEP] i have had koss headphones in the past, pro 4aa and qz - 99. the koss portapro is portable and has great bass response. the work great with my android phone and can be \" rolled up \" to be carried in my motorcycle jacket or computer bag without getting crunched. they are very light and do not feel heavy or bear down on your ears even after listening to music with them on all day. the sound is [SEP]\n",
      "\n",
      "Window #1 has 88 tokens\n",
      "[CLS] how is the bass? [SEP] and do not feel heavy or bear down on your ears even after listening to music with them on all day. the sound is night and day better than any ear - bud could be and are almost as good as the pro 4aa. they are \" open air \" headphones so you cannot match the bass to the sealed types, but it comes close. for $ 32, you cannot go wrong. [SEP]\n",
      "\n"
     ]
    }
   ],
   "source": [
    "example = dfs['train'].iloc[0][['question', 'context']]\n",
    "tokenize_example = tokenizer(example['question'], example['context'], return_overflowing_tokens=True, max_length=100,\n",
    "                             stride=25)\n",
    "print(tokenize_example)\n",
    "\n",
    "for idx, window in enumerate(tokenize_example['input_ids']):\n",
    "    print(f\"Window #{idx} has {len(window)} tokens\")\n",
    "    print(tokenizer.decode(window))\n",
    "    print()"
   ]
  },
  {
   "cell_type": "markdown",
   "id": "55af5ff6272c867c",
   "metadata": {},
   "source": [
    "## 现代QA模型的Retriever-reader 架构\n",
    "\n",
    "### 核心组件\n",
    "* Retriever 执行检索任务，搜索问题相关内容作为上下文给模型\n",
    "* Reader  阅读理解模型，基于Retriever提供的上下文以及用户的问题，提取答案。\n",
    "\n",
    "<img src=\"./imgs/retriever_reader_arch_qa_system.png\" width=\"400\"/>\n",
    "\n",
    "### 文本检索方法\n",
    "- TF-IDF （Term Frequency – Inverse Document Frequency）用词频衡量关键词的重要性，\n",
    "    - TF：一个词在当前文档中出现了几次\n",
    "    - IDF：这个词在整个语料库中有多“少见”\n",
    "    - 常见词（比如“的”、“是”）权重低，少见但频繁出现在某篇文章的词，权重高。\n",
    "\n",
    "- BM25（Best Match 25）TF-IDF 的升级版，更适合搜索引擎用\n",
    "    - 除了词频，还考虑文档长度、词的位置、查询词的“饱和效应”（词出现太多次也不会无限加分）\n",
    "    - 关键词越集中、文档越短、匹配得越好，得分越高。\n",
    "    > 搜“Python 教程”，短小精悍、密集出现“Python”的文章会得分高。\n",
    "- Embedding 向量表示。把句子/单词变成一个“数字向量”，能表达语义。\n",
    "    - 不再看词频，而是用机器学习模型训练出来的词向量/句向量\n",
    "    - 相似度用余弦距离等方式比较\n",
    "    > “我喜欢猫”和“I love cats”意思很像，用 embedding 表示后两个向量很接近。\n",
    "    - 适合做语义匹配，找“意思相近”的句子或文档，而不仅仅是关键词匹配。\n",
    "- DPR (Dense Passage Retrieval） 用两个 BERT 模型，一个编码问题，一个编码文档，做“语义搜索”。\n",
    "    - embedding 的进阶版\n",
    "    - Dual Encoder 架构：问题和文档各自变成一个向量，然后比相似度\n",
    "    - 用大规模问答数据训练（如自然问答对）,不仅能找关键词相似的文章，还能找语义能回答问题的段落。\n",
    "\n",
    "<img src=\"./imgs/semantic_relevance_algo_doc_storages.png\" width=\"400\"/>\n",
    "\n",
    "### Haystack library (from DeepSet)\n",
    "* Document store 文档数据库，元数据，Retriever检索时使用\n",
    "* Pipeline 组合QA系统组件，合并retriever检索到的文档，使用阅读理解模型提取答案"
   ]
  },
  {
   "cell_type": "code",
   "execution_count": 22,
   "id": "d3a336d64584fa32",
   "metadata": {
    "ExecuteTime": {
     "end_time": "2025-04-09T02:07:07.528183Z",
     "start_time": "2025-04-09T02:07:04.005508Z"
    }
   },
   "outputs": [
    {
     "name": "stdout",
     "output_type": "stream",
     "text": [
      "{\r\n",
      "  \"name\" : \"fenghd.local\",\r\n",
      "  \"cluster_name\" : \"elasticsearch\",\r\n",
      "  \"cluster_uuid\" : \"EoQ82iqsSXaqVsgDLSGlAA\",\r\n",
      "  \"version\" : {\r\n",
      "    \"number\" : \"8.11.4\",\r\n",
      "    \"build_flavor\" : \"default\",\r\n",
      "    \"build_type\" : \"tar\",\r\n",
      "    \"build_hash\" : \"da06c53fd49b7e676ccf8a32d6655c5155c16d81\",\r\n",
      "    \"build_date\" : \"2024-01-08T10:05:08.438562403Z\",\r\n",
      "    \"build_snapshot\" : false,\r\n",
      "    \"lucene_version\" : \"9.8.0\",\r\n",
      "    \"minimum_wire_compatibility_version\" : \"7.17.0\",\r\n",
      "    \"minimum_index_compatibility_version\" : \"7.0.0\"\r\n",
      "  },\r\n",
      "  \"tagline\" : \"You Know, for Search\"\r\n",
      "}\r\n"
     ]
    },
    {
     "name": "stderr",
     "output_type": "stream",
     "text": [
      "huggingface/tokenizers: The current process just got forked, after parallelism has already been used. Disabling parallelism to avoid deadlocks...\n",
      "To disable this warning, you can either:\n",
      "\t- Avoid using `tokenizers` before the fork if possible\n",
      "\t- Explicitly set the environment variable TOKENIZERS_PARALLELISM=(true | false)\n"
     ]
    },
    {
     "name": "stdout",
     "output_type": "stream",
     "text": [
      "Loaded 1875 documents\n",
      "I had originally bought a Kindle Fire for my mom to read books when she went on vacation. I played around with it for a week or two (loading it with eBooks and making sure I was familiar with it before handing it over) During the time I really enjoyed the device, but wasn't sure I had enough of a need to buy my own.In comes the Kindle Fire HD 7\" I happened to be at Best Buy checking them out when I realized that I do buy books quite frequently, and that I could use one. I took a few days to decide what device was best for me, and thanks to the people I work with I had a chance to compare the Kindle Fire HD and a Nexus 7 side by side.Comparison, Performance wise they are a very close match, I would say the Nexus is slightly faster over all. but not enough that it would matter in the end. my deciding factor was the Amazon experience. I wanted that User Interface, where I see what I am looking for as soon as I turn on the device. I did not want the  distractions of other games and apps to have the chance to prevent me from reading the books that I bought the tablet for. So I ended up getting the Kindle Fire at Best Buy a few days later.since I have picked up the Kindle Fire HD I have found that I use it to watch YouTube and Netflix a lot while cooking or being in the kitchen. I also take it with me where ever I go, I can get amazing Wifi signal when in the city. Thanks to the Dual-Band Wifi in this thing I get better signal than I do on my laptop. I find thanks to the Wifi Signal I tend to surf the internet more on my Kindle than my laptop.The Screen Is amazing as well. When watching Netflix or Amazon Prime the Videos look fantastic. I haven't tried loading videos on it to take with me on the Go, But i am sure the quality will be amazing just like Netflix or Prime.Also while watching movies the best thing about the Kindle Fire compared to any other tablet is the speakers. They are simply amazing. You get good quality sound without any distortion. and decent bass too. This is great when you are trying to watch videos and there are dogs barking in the background, or maybe  a car driving by you can still hear what you are watching and not have to deal with crackling or other interference from the speakers.I have shown this tablet to a few of my friends, and so far one has bought it (also loves it) and the other is still on the fence (but leaning toward the Kindle Fire HD)\n"
     ]
    },
    {
     "name": "stderr",
     "output_type": "stream",
     "text": [
      "Some weights of the model checkpoint at deepset/minilm-uncased-squad2 were not used when initializing BertForQuestionAnswering: ['bert.pooler.dense.bias', 'bert.pooler.dense.weight']\n",
      "- This IS expected if you are initializing BertForQuestionAnswering from the checkpoint of a model trained on another task or with another architecture (e.g. initializing a BertForSequenceClassification model from a BertForPreTraining model).\n",
      "- This IS NOT expected if you are initializing BertForQuestionAnswering from the checkpoint of a model that you expect to be exactly identical (initializing a BertForSequenceClassification model from a BertForSequenceClassification model).\n"
     ]
    },
    {
     "name": "stdout",
     "output_type": "stream",
     "text": [
      "{'answers': [ExtractedAnswer(query='Is it good for reading?', score=0.5065422654151917, data='about 6000 hours depending on file size', document=Document(id=a79b68f2-429a-4ba9-a1d2-5e20e940a0ec, content: 'An MP3 is about 1 MB/minute, so about 6000 hours depending on file size.'), context=None, document_offset=ExtractedAnswer.Span(start=32, end=71), context_offset=None, meta={}), ExtractedAnswer(query='Is it good for reading?', score=0.49345773458480835, data=None, document=None, context=None, document_offset=None, context_offset=None, meta={})]}\n",
      "Question: ExtractedAnswer(query='Is it good for reading?', score=0.775586724281311, data='This is a good tablet for reading books', document=Document(id=9a9a7e6f969ed160551da92db5ef48146504e6e7d11f0d714ef05c968d1b5bb9, content: 'I really haven't found anything to dislike about this. It's a considerable improvement over the prev...', meta: {'item_id': 'B00DVFLJDS', 'question_id': 'f9a7e7eb40501bf4a2bda84799f6fdd0', 'split': 'train'}, score: 9.189323), context=None, document_offset=ExtractedAnswer.Span(start=196, end=235), context_offset=None, meta={}) \n",
      "\n",
      "Answer 1: This is a good tablet for reading books\n",
      "Review snippet: ...I really haven't found anything to dislike about this. It's a considerable improvement over the previous model year. It just does everything I expect of a tablet.The text is very clear and sharp. This is a good tablet for reading books, which is more than I expected.There is the one small curiosity where there isn't a camera app provided. You can readily download one for free, however....\n",
      "\n",
      "\n",
      "\n",
      "Answer 2: This works great\n",
      "Review snippet: ...I have really been enjoying my lighted cover for my Kindle. Before I bought it, I read some other reviewers that suggested using the elastic band to bind back the cover when reading. As in, open the cover all the way until it touches the back cover and flip the band around it to hold it there. This works great. The cover is nice and stiff which seems to provide good protection. The light, for me, works really great. It is really convenient not having to have a separate light and/or batteries. Some reviewers have complained about the included LED light being unevenly distributed. This is true, but mine doesn't seem to be in any way that bad. I played with the light (it slides out on a molded flat plastic arm in the top right hand corner of the back), and see that if the light is angled just a little bit more down or up it changes the light distribution considerably. Which leads me to wonder if the lights that are giving the most problems are just off-angled. Anyway, it is just a thought. Oh, and I love the detail for the band, meaning the sliding leather tab which assists in locking the cover open/closed....\n",
      "\n",
      "\n",
      "\n",
      "Answer 3: That's fine\n",
      "Review snippet: ...So I have had my iPad now for about a month. The bottom line for me is that the iPad has some strong points but, overall, is very limited in its usefulness. It might be well suited for someone in different circumstances but my scenario is that I have a small work laptop that is with me all day and I have a pocketable iPhone which is with me (almost) at all times. At home, I have the work laptop, another laptop and a desktop.Strengths* The iPad is a good digital photo frame. Not worlds better than others you can get, but it's good.* The iPad's greatest strength is with magazines. Magazines have never looked better than on an iPad, particularly photo-oriented magazines covering travel, sports or food. It is materially better than reading a physical magazine. For this purpose I might have wanted the iPad to be even bigger.* The iPad is a nicely compact tablet for web searches. You can do web searches, the page is bigger than your iPhone and the device doesn't take much room on the counter. That's handy.Weaknesses* The iPad does not replace a computer (or any other device). It is meant as a satellite device for people who have laptops, so for instance it doesn't have USB ports to load content directly onto the device. When we went on a trip we wanted to take the iPad instead of a laptop but we couldn't because you can't offload your pics from your camera directly to the iPad. Also, it is in my view not a good word processing platform, or in any case not as good as a compact laptop, so if you need to do actual work you still need your actual laptop. Bottom line: it is a \"third device,\" not a replacement for one of your current devices.* It is not really portable (for men). It doesn't fit in your pocket, so the average man (who doesn't carry a purse) will be leaving it at home.* It doesn't support Flash. The reality is that Flash is all over the web, so if your browser doesn't support it, it's inconvenient.* I can't imagine when I would watch a video on it. If I'm out and about I might watch a YouTube link on my iPhone. But if I am at home I'm sure I would rather watch on my internet-connected TV or on one of my PCs (all of which have larger screens). If I am traveling I probably wouldn't bring the iPad anyway.So for me the iPad is a niche device solving a small set of problems not well addressed by the iPhone-laptop combination, basically for reading magazines and doing the occasional web search. That's fine, but I am not sure it is worth $500-$800. It depends how flush you are I guess. Listening to music on the go is a mass market desire, as we saw with Walkman and later the iPod. Reading backlit magazines and having another way to do searches in the house are much more limited use cases. 3 million Apple fans have bought the device (including myself), but I will be surprised if it becomes a real mass market solution....\n",
      "\n",
      "\n",
      "\n"
     ]
    }
   ],
   "source": [
    "!curl -X GET \"localhost:9200/?pretty\"\n",
    "\n",
    "\n",
    "from haystack_integrations.document_stores.elasticsearch import ElasticsearchDocumentStore\n",
    "from haystack import Document\n",
    "\n",
    "doc_store = ElasticsearchDocumentStore(hosts=\"http://localhost:9200\", timeout=60)\n",
    "\n",
    "from datasets import load_dataset\n",
    "import uuid\n",
    "\n",
    "subjqa_dataset = load_dataset('subjqa', name=\"electronics\")\n",
    "\n",
    "import pandas as pd\n",
    "\n",
    "# dfs = {split: dset.to_pandas() for split, dset in subjqa_dataset.flatten().items()}\n",
    "# for split, df in dfs.items():\n",
    "#     docs = [Document(content=row[\"context\"], meta={\"item_id\": row[\"title\"], \"question_id\": row[\"id\"], \"split\": split})\n",
    "#             for _, row in df.drop_duplicates(subset=\"context\").iterrows()]\n",
    "#     doc_store.write_documents(docs)\n",
    "print(f\"Loaded {doc_store.count_documents()} documents\")\n",
    "\n",
    "from haystack_integrations.components.retrievers.elasticsearch import bm25_retriever\n",
    "\n",
    "es_retriever = bm25_retriever.ElasticsearchBM25Retriever(document_store=doc_store)\n",
    "item_id = \"B0074BW614\"\n",
    "query = \"Is it good for reading?\"\n",
    "retrieved_docs = es_retriever.run(\n",
    "    query=query, top_k=3, filters={\n",
    "        \"operator\": \"AND\",\n",
    "        \"conditions\": [\n",
    "            {\"field\": \"item_id\", \"operator\": \"==\", \"value\": \"B0074BW614\"},\n",
    "            {\"field\": \"split\", \"operator\": \"==\", \"value\": \"train\"}\n",
    "        ]\n",
    "    })\n",
    "print(retrieved_docs['documents'][0].content)\n",
    "\n",
    "from haystack.components.readers import ExtractiveReader\n",
    "\n",
    "model_ckpt = \"deepset/minilm-uncased-squad2\"\n",
    "max_seq_length, doc_stride = 384, 128\n",
    "context = \"\"\"An MP3 is about 1 MB/minute, so about 6000 hours depending on \\\n",
    "file size.\"\"\"\n",
    "reader = ExtractiveReader(model=model_ckpt, max_seq_length=max_seq_length, stride=doc_stride, no_answer=True)\n",
    "reader.warm_up()\n",
    "print(reader.run(query=query, top_k=1, documents=[Document(content=context, id=str(uuid.uuid4()))]))\n",
    "\n",
    "#use pipeline \n",
    "from haystack.core.pipeline import Pipeline\n",
    "\n",
    "#组装pipeline\n",
    "pipe = Pipeline()\n",
    "pipe.add_component('retriever', es_retriever)\n",
    "pipe.add_component('reader', reader)\n",
    "\n",
    "# 建立链接\n",
    "pipe.connect('retriever', 'reader')\n",
    "n_answers = 3\n",
    "preds = pipe.run(data={\"retriever\": {\"query\": query}, \"reader\": {\"query\": query\n",
    "    , \"top_k\": 3}})\n",
    "print(f\"Question: {preds['reader']['answers'][0]} \\n\")\n",
    "answers = preds['reader']['answers']\n",
    "for idx in range(n_answers):\n",
    "    print(f\"Answer {idx + 1}: {answers[idx].data}\")\n",
    "    print(f\"Review snippet: ...{answers[idx].document.content}...\")\n",
    "    print(\"\\n\\n\")\n",
    " "
   ]
  },
  {
   "cell_type": "markdown",
   "id": "9a8247d3795c5ee",
   "metadata": {},
   "source": [
    "## Improving QA pipeline\n",
    "\n",
    "Retriever获取到的文档相关性高低决定了整个QA系统的上限，毕竟阅读理解模型的输入依赖于Retriever的输出。\n",
    "\n",
    "### Evaluate Retriever\n",
    "\n",
    "核心评判指标：`recall` \n",
    "\n",
    "Haystack中，有两种评判Retriever指标的方式：\n",
    "* Retriever内置的eval() 方法\n",
    "* custom metrics in Pipeline\n",
    "\n",
    "\n"
   ]
  },
  {
   "cell_type": "code",
   "execution_count": 105,
   "id": "b685489101d36510",
   "metadata": {
    "ExecuteTime": {
     "end_time": "2025-04-10T13:43:15.364781Z",
     "start_time": "2025-04-10T13:43:15.282725Z"
    }
   },
   "outputs": [
    {
     "name": "stdout",
     "output_type": "stream",
     "text": [
      "WrapListOutputAdapter init\n",
      "WrapListOutputAdapter call:[Document(id=9a9a7e6f969ed160551da92db5ef48146504e6e7d11f0d714ef05c968d1b5bb9, content: 'I really haven't found anything to dislike about this. It's a considerable improvement over the prev...', meta: {'item_id': 'B00DVFLJDS', 'question_id': 'f9a7e7eb40501bf4a2bda84799f6fdd0', 'split': 'train'}, score: 9.189323)]\n",
      "{'eval': {'score': 1.0, 'individual_scores': [1.0]}}\n",
      "                                         eval\n",
      "0  {'score': 1.0, 'individual_scores': [1.0]}\n",
      "\n",
      "Average metrics:\n",
      "Series([], dtype: float64)\n"
     ]
    }
   ],
   "source": [
    "from typing import Any, List\n",
    "from haystack.components.converters import OutputAdapter\n",
    "from haystack_integrations.document_stores.elasticsearch import ElasticsearchDocumentStore\n",
    "from haystack_integrations.components.retrievers.elasticsearch import ElasticsearchBM25Retriever\n",
    "from haystack.components.evaluators import DocumentRecallEvaluator, DocumentMRREvaluator\n",
    "from haystack.core.pipeline import Pipeline\n",
    "from haystack import Document, component\n",
    "import pandas as pd\n",
    "\n",
    "# Step 1: 初始化 DocumentStore\n",
    "doc_store = ElasticsearchDocumentStore(hosts=\"http://localhost:9200\", index=\"default\")\n",
    "# doc_store.write_documents(documents)\n",
    "\n",
    "# Step 3: 初始化 Retriever\n",
    "retriever = ElasticsearchBM25Retriever(document_store=doc_store, top_k=1)\n",
    "first = retriever.run(query = \"Is it good for reading?\")['documents'][0].content\n",
    "\n",
    "# Step 4: 设定评估用的问题与 ground_truth\n",
    "eval_queries = [\n",
    "    {\n",
    "        \"query\": \"Is it good for reading?\",\n",
    "        \"ground_truths\": [first]\n",
    "    }\n",
    "]\n",
    "\n",
    "@component\n",
    "class WrapListOutputAdapter:\n",
    "    \"\"\"\n",
    "    将 List[Document] 包装为 List[List[Document]]。\n",
    "    \"\"\"\n",
    "    \n",
    "    def __init__(self):\n",
    "        print(\"WrapListOutputAdapter init\")\n",
    "\n",
    "    @component.output_types(output=List[List[Document]])\n",
    "    def run(self, value: Any):\n",
    "        print(\"WrapListOutputAdapter call:{}\".format(value))\n",
    "        if isinstance(value, list) and all(isinstance(doc, Document) for doc in value):\n",
    "            return {\"output\": [value]}  # 包成一层\n",
    "        else:\n",
    "            raise ValueError(\"Input must be a List[Document]\")\n",
    "        \n",
    "# Step 5: 设置评估组件\n",
    "evaluator = DocumentRecallEvaluator()\n",
    "# Step 6: 构建管道并连接组件\n",
    "pipe = Pipeline()\n",
    "pipe.add_component(\"output_adapter\", WrapListOutputAdapter())\n",
    "pipe.add_component(\"retriever\", retriever)\n",
    "pipe.connect(\"retriever.documents\", \"output_adapter\")\n",
    "pipe.add_component(\"eval\", evaluator) \n",
    "pipe.connect('output_adapter.output', 'eval.retrieved_documents')\n",
    "\n",
    "# Step 7: 运行评估\n",
    "results = []\n",
    "for q in eval_queries:\n",
    "    output = pipe.run(data={\"retriever\": {\"query\": q[\"query\"]}, \"eval\": {\"ground_truth_documents\": [[Document(content=q[\"ground_truths\"][0])]]}})\n",
    "    print(output)\n",
    "    results.append(output)\n",
    "\n",
    "# Step 8: 输出评估结果\n",
    "df = pd.DataFrame(results)\n",
    "print(df)\n",
    "\n",
    "# Optional: 打印平均分\n",
    "print(\"\\nAverage metrics:\")\n",
    "print(df.mean(numeric_only=True))"
   ]
  },
  {
   "metadata": {},
   "cell_type": "markdown",
   "source": [
    "## RAG \n",
    "\n",
    "RAG模型分为两种：  \n",
    "* RAG-Sequence (使用召回的top k文档生成最终的答案)\n",
    "* RAG-Token（使用不同的文档生成答案的token）—-更优  \n",
    "\n",
    "\n",
    "\n"
   ],
   "id": "708e65dff654e640"
  }
 ],
 "metadata": {
  "kernelspec": {
   "display_name": "Python 3 (ipykernel)",
   "language": "python",
   "name": "python3"
  },
  "language_info": {
   "codemirror_mode": {
    "name": "ipython",
    "version": 3
   },
   "file_extension": ".py",
   "mimetype": "text/x-python",
   "name": "python",
   "nbconvert_exporter": "python",
   "pygments_lexer": "ipython3",
   "version": "3.10.17"
  }
 },
 "nbformat": 4,
 "nbformat_minor": 5
}
